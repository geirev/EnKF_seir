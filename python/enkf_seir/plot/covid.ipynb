{
 "cells": [
  {
   "cell_type": "code",
   "execution_count": null,
   "metadata": {
    "scrolled": true
   },
   "outputs": [],
   "source": [
    "import pandas as pd\n",
    "import numpy as np\n",
    "import os\n",
    "from datetime import datetime, timedelta"
   ]
  },
  {
   "cell_type": "code",
   "execution_count": null,
   "metadata": {},
   "outputs": [],
   "source": [
    "from bokeh.plotting import figure, show, output_file\n",
    "from bokeh.layouts import gridplot, column\n",
    "from bokeh.io import output_notebook, export_png\n",
    "from bokeh.models import ContinuousColorMapper, Ticker, LogTicker, ColorBar , DataRange1d\n",
    "from bokeh.models import LinearColorMapper, BasicTicker, PrintfTickFormatter, ColumnDataSource, LabelSet, Label\n",
    "from bokeh.transform import transform\n",
    "from bokeh.palettes import viridis\n",
    "output_notebook()\n",
    "colors = ['#4575b4','#91bfdb','#e0f3f8','#ffffbf','#fee090','#fc8d59','#d73027'] \n",
    "colors1 = ['#e41a1c', '#377eb8', '#4daf4a', '#984ea3', '#ff7f00', '#ffff33', '#a65628', '#f781bf', '#4575b4','#91bfdb','#e0f3f8','#ffffbf','#fee090','#fc8d59','#d73027' ]"
   ]
  },
  {
   "cell_type": "code",
   "execution_count": null,
   "metadata": {},
   "outputs": [],
   "source": [
    "num_real = 1000\n",
    "start = '2020-03-01'\n",
    "path2data = '~/Dropbox/EnKF_seir/Norway2/OutdirU'"
   ]
  },
  {
   "cell_type": "markdown",
   "metadata": {},
   "source": [
    "### Load simulation files"
   ]
  },
  {
   "cell_type": "code",
   "execution_count": null,
   "metadata": {},
   "outputs": [],
   "source": [
    "col_names = ['time', 'ave', 'std'] + [str(x) for x in range(1, num_real+1)]"
   ]
  },
  {
   "cell_type": "code",
   "execution_count": null,
   "metadata": {
    "scrolled": true
   },
   "outputs": [],
   "source": [
    "# Load dead\n",
    "dead_0 = pd.read_csv(os.path.join(path2data, 'dead001_0.dat'), sep='\\s+', skiprows=52, header=0, dtype=float, names=col_names)\n",
    "dead_1 = pd.read_csv(os.path.join(path2data,'dead001_1.dat'), sep='\\s+', skiprows=52, header=0, dtype=float, names=col_names)\n",
    "dead_0.set_index('time', inplace=True)\n",
    "dead_1.set_index('time', inplace=True)\n",
    "dead_0.index = pd.date_range(start = start, periods = dead_0.shape[0], freq='d')\n",
    "dead_1.index = pd.date_range(start = start, periods = dead_0.shape[0], freq='d')"
   ]
  },
  {
   "cell_type": "code",
   "execution_count": null,
   "metadata": {},
   "outputs": [],
   "source": [
    "# Load hospitalized\n",
    "hosp_0 = pd.read_csv(os.path.join(path2data,'hosp001_0.dat'), sep='\\s+', skiprows=52, header=0, dtype=float, names=col_names)\n",
    "hosp_1 = pd.read_csv(os.path.join(path2data,'hosp001_1.dat'), sep='\\s+', skiprows=52, header=0, dtype=float, names=col_names)\n",
    "hosp_0.set_index('time', inplace=True)\n",
    "hosp_1.set_index('time', inplace=True)\n",
    "hosp_0.index = pd.date_range(start = start, periods = dead_0.shape[0], freq='d')\n",
    "hosp_1.index = pd.date_range(start = start, periods = dead_0.shape[0], freq='d')"
   ]
  },
  {
   "cell_type": "code",
   "execution_count": null,
   "metadata": {},
   "outputs": [],
   "source": [
    "# Load exposed\n",
    "expos_0 = pd.read_csv(os.path.join(path2data,'expos001_0.dat'), sep='\\s+', skiprows=52, header=0, dtype=float, names=col_names)\n",
    "expos_1 = pd.read_csv(os.path.join(path2data,'expos001_1.dat'), sep='\\s+', skiprows=52, header=0, dtype=float, names=col_names)\n",
    "expos_0.set_index('time', inplace=True)\n",
    "expos_1.set_index('time', inplace=True)\n",
    "expos_0.index = pd.date_range(start = start, periods = expos_0.shape[0], freq='d')\n",
    "expos_1.index = pd.date_range(start = start, periods = expos_0.shape[0], freq='d')"
   ]
  },
  {
   "cell_type": "code",
   "execution_count": null,
   "metadata": {},
   "outputs": [],
   "source": [
    "# Load infectuous\n",
    "infec_0 = pd.read_csv(os.path.join(path2data,'infec001_0.dat'), sep='\\s+', skiprows=52, header=0, dtype=float, names=col_names)\n",
    "infec_1 = pd.read_csv(os.path.join(path2data,'infec001_1.dat'), sep='\\s+', skiprows=52, header=0, dtype=float, names=col_names)\n",
    "infec_0.set_index('time', inplace=True)\n",
    "infec_1.set_index('time', inplace=True)\n",
    "infec_0.index = pd.date_range(start = start, periods = infec_0.shape[0], freq='d')\n",
    "infec_1.index = pd.date_range(start = start, periods = infec_0.shape[0], freq='d')"
   ]
  },
  {
   "cell_type": "code",
   "execution_count": null,
   "metadata": {},
   "outputs": [],
   "source": [
    "# Load suseptible\n",
    "susc_0 = pd.read_csv(os.path.join(path2data,'susc001_0.dat'), sep='\\s+', skiprows=52, header=0, dtype=float, names=col_names)\n",
    "susc_1 = pd.read_csv(os.path.join(path2data,'susc001_1.dat'), sep='\\s+', skiprows=52, header=0, dtype=float, names=col_names)\n",
    "susc_0.set_index('time', inplace=True)\n",
    "susc_1.set_index('time', inplace=True)\n",
    "susc_0.index = pd.date_range(start = start, periods = susc_0.shape[0], freq='d')\n",
    "susc_1.index = pd.date_range(start = start, periods = susc_0.shape[0], freq='d')"
   ]
  },
  {
   "cell_type": "code",
   "execution_count": null,
   "metadata": {},
   "outputs": [],
   "source": [
    "# Load suseptible\n",
    "recov_0 = pd.read_csv(os.path.join(path2data,'recov001_0.dat'), sep='\\s+', skiprows=52, header=0, dtype=float, names=col_names)\n",
    "recov_1 = pd.read_csv(os.path.join(path2data,'recov001_1.dat'), sep='\\s+', skiprows=52, header=0, dtype=float, names=col_names)\n",
    "recov_0.set_index('time', inplace=True)\n",
    "recov_1.set_index('time', inplace=True)\n",
    "recov_0.index = pd.date_range(start = start, periods = recov_0.shape[0], freq='d')\n",
    "recov_1.index = pd.date_range(start = start, periods = recov_0.shape[0], freq='d')"
   ]
  },
  {
   "cell_type": "code",
   "execution_count": null,
   "metadata": {},
   "outputs": [],
   "source": [
    "# Load total amount of cases\n",
    "case_0 = pd.read_csv(os.path.join(path2data,'case001_0.dat'), sep='\\s+', skiprows=52, header=0, dtype=float, names=col_names)\n",
    "case_1 = pd.read_csv(os.path.join(path2data,'case001_1.dat'), sep='\\s+', skiprows=52, header=0, dtype=float, names=col_names)\n",
    "case_0.set_index('time', inplace=True)\n",
    "case_1.set_index('time', inplace=True)\n",
    "case_0.index = pd.date_range(start = start, periods = case_0.shape[0], freq='d')\n",
    "case_1.index = pd.date_range(start = start, periods = case_0.shape[0], freq='d')"
   ]
  },
  {
   "cell_type": "code",
   "execution_count": null,
   "metadata": {},
   "outputs": [],
   "source": [
    "# Load ensemble of R(t)\n",
    "rens_0 = pd.read_csv(os.path.join(path2data,'Rens001_0.dat'), sep='\\s+', skiprows=52, header=0, dtype=float, names=col_names)\n",
    "rens_1 = pd.read_csv(os.path.join(path2data,'Rens001_1.dat'), sep='\\s+', skiprows=52, header=0, dtype=float, names=col_names)\n",
    "rens_0.set_index('time', inplace=True)\n",
    "rens_1.set_index('time', inplace=True)\n",
    "rens_0.index = pd.date_range(start = start, periods = rens_0.shape[0], freq='d')\n",
    "rens_1.index = pd.date_range(start = start, periods = rens_0.shape[0], freq='d')"
   ]
  },
  {
   "cell_type": "markdown",
   "metadata": {},
   "source": [
    "### Load observation file"
   ]
  },
  {
   "cell_type": "code",
   "execution_count": null,
   "metadata": {},
   "outputs": [],
   "source": [
    "obs_dead = pd.read_csv(os.path.join(path2data, 'obsD001.dat'), sep='\\s+', skiprows=2, header=0, dtype=float, usecols=[0,1,2,3], names=['idx', 'time', 'obs', 'std'])\n",
    "obs_dead.set_index('time', inplace=True)\n",
    "obs_dead.index = pd.date_range(start = dead_1.index[0] + timedelta(days=obs_dead.index[0]), periods = obs_dead.shape[0], freq='d')"
   ]
  },
  {
   "cell_type": "code",
   "execution_count": null,
   "metadata": {},
   "outputs": [],
   "source": [
    "obs_hosp = pd.read_csv(os.path.join(path2data, 'obsH001.dat'), sep='\\s+', skiprows=2, header=0, dtype=float, usecols=[0,1,2,3], names=['idx', 'time', 'obs', 'std'])\n",
    "obs_hosp.set_index('time', inplace=True)\n",
    "obs_hosp.index = pd.date_range(start = hosp_1.index[0] + timedelta(days=obs_hosp.index[0]), periods = obs_hosp.shape[0], freq='d')"
   ]
  },
  {
   "cell_type": "markdown",
   "metadata": {},
   "source": [
    "### Define colors"
   ]
  },
  {
   "cell_type": "code",
   "execution_count": null,
   "metadata": {},
   "outputs": [],
   "source": [
    "# hosp and deaths\n",
    "color_dead = '#4daf4a'\n",
    "color_dead_avg = '#388036'\n",
    "color_hosp = '#9843a3'\n",
    "color_hosp_avg = '#763f7e'\n",
    "# exposed and infected\n",
    "color_expos = 'darkorange'\n",
    "color_expos_avg = '#ca871a'\n",
    "color_infec = '#4daf4a'\n",
    "color_infec_avg = '#388036'\n",
    "# recovered and cases\n",
    "color_recov = '#377eb8'\n",
    "color_recov_avg = '#377eb8'\n",
    "color_case = '#feb24c'\n",
    "color_case_avg = '#fc4e2a'\n",
    "# susceptible\n",
    "color_susc = 'darkcyan'\n",
    "color_susc_avg = '#016b6b'\n",
    "# Observations\n",
    "color_obs_dead = 'red'\n",
    "color_obs_hosp = 'red'\n",
    "# R ensemble\n",
    "color_rens_prior = 'lightblue'\n",
    "color_rens_prior_avg = 'darkblue'\n",
    "color_rens_post = 'lightgreen'\n",
    "color_rens_post_avg = 'darkgreen'"
   ]
  },
  {
   "cell_type": "markdown",
   "metadata": {},
   "source": [
    "### Hospitalized and dead"
   ]
  },
  {
   "cell_type": "code",
   "execution_count": null,
   "metadata": {},
   "outputs": [],
   "source": [
    "p1 = figure(x_axis_type=\"datetime\", title='Forecast for hospitalized and dead', y_range= DataRange1d(start=0), plot_height=500, plot_width=960)\n",
    "\n",
    "#Plot realizations\n",
    "for real in (str(x) for x in range(1, 100)): #num_real+1 (to plot all realizations)\n",
    "    p1.line(dead_1.index, dead_1[real], color=color_dead, line_width=0.5, alpha = 0.3, legend_label='Dead_1_realizations')\n",
    "    p1.line(hosp_1.index, hosp_1[real], color=color_hosp, line_width=0.5, alpha = 0.3, legend_label='Hospitalized_1_realizations')\n",
    "\n",
    "#Plot simulations\n",
    "#p1.varea(x= dead_1.index, y1=dead_1['ave']-2*dead_1['std'], y2=dead_1['ave']+2*dead_1['std'], color=color_dead, alpha=0.2, legend_label='Dead_1_std')\n",
    "p1.line(dead_1.index, dead_1['ave'], color=color_dead_avg, line_width=3, legend_label='Dead_1_avg')\n",
    "#p1.varea(x= hosp_1.index, y1=hosp_1['ave']-2*hosp_1['std'], y2=hosp_1['ave']+2*hosp_1['std'], color=color_hosp, alpha=0.2, legend_label='Hospitalized_1_std')\n",
    "p1.line(hosp_1.index, hosp_1['ave'], color=color_hosp_avg, line_width=3, legend_label='Hospitalized_1_avg')\n",
    "\n",
    "#Plot observations\n",
    "p1.circle(obs_dead.index, obs_dead['obs'], color=color_obs_dead, size=6, legend_label='Observations dead')\n",
    "p1.triangle(obs_hosp.index, obs_hosp['obs'], color=color_obs_hosp, size=6, legend_label='Observations hospitalized')\n",
    "\n",
    "err_xd = []\n",
    "err_yd = []\n",
    "err_xh = []\n",
    "err_yh = []\n",
    "\n",
    "for xd, yd, yerrd in zip(obs_dead.index, obs_dead['obs'], obs_dead['std']):\n",
    "    err_xd.append((xd, xd))\n",
    "    err_yd.append((yd - 2*yerrd , yd + 2*yerrd))\n",
    "for xh, yh, yerrh in zip(obs_hosp.index, obs_hosp['obs'], obs_hosp['std']):\n",
    "    err_xh.append((xh, xh))\n",
    "    err_yh.append((yh - 2*yerrh , yh + 2*yerrh))\n",
    "    \n",
    "p1.multi_line(err_xd, err_yd, color=color_obs_dead, legend_label='Observations dead')\n",
    "p1.multi_line(err_xh, err_yh, color=color_obs_dead, legend_label='Observations hospitalized')\n",
    "\n",
    "p1.grid.grid_line_alpha=0.9\n",
    "p1.xaxis.axis_label = 'Time'\n",
    "p1.yaxis.axis_label = 'Number of people'\n",
    "p1.legend.click_policy='hide'\n",
    "p1.legend.location = \"bottom_right\"\n",
    "#show(p1)\n",
    "#export_png(p1,filename='bokehDH.png')"
   ]
  },
  {
   "cell_type": "markdown",
   "metadata": {},
   "source": [
    "### Exposed and infected"
   ]
  },
  {
   "cell_type": "code",
   "execution_count": null,
   "metadata": {},
   "outputs": [],
   "source": [
    "p2 = figure(x_axis_type=\"datetime\", title='Forecast for exposed and infected', x_range=p1.x_range, y_range= DataRange1d(start=0), plot_height=500, plot_width=960)\n",
    "\n",
    "#Plot realizations\n",
    "for real in (str(x) for x in range(1, 100)): #num_real+1 (to plot all realizations)\n",
    "    p2.line(expos_1.index, expos_1[real], color=color_expos, line_width=0.5, alpha = 0.3, legend_label='Exposed_1_realizations')\n",
    "    p2.line(infec_1.index, infec_1[real], color=color_infec, line_width=0.5, alpha = 0.3, legend_label='Infected_1_realizations')\n",
    "\n",
    "#Plot simulations\n",
    "#p2.varea(x= expos_1.index, y1=expos_1['ave']-2*expos_1['std'], y2=expos_1['ave']+2*expos_1['std'], color=color_expos, alpha=0.2, legend_label='Exposed_1_std')\n",
    "p2.line(expos_1.index, expos_1['ave'], color=color_expos_avg, line_width=3, legend_label='Exposed_1_avg')\n",
    "#p2.varea(x= infec_1.index, y1=infec_1['ave']-2*infec_1['std'], y2=infec_1['ave']+2*infec_1['std'], color=color_infec, alpha=0.2, legend_label='Infected_1_std')\n",
    "p2.line(infec_1.index, infec_1['ave'], color=color_infec_avg, line_width=3, legend_label='Infected_1_avg')\n",
    "\n",
    "p2.grid.grid_line_alpha=0.9\n",
    "p2.xaxis.axis_label = 'Time'\n",
    "p2.yaxis.axis_label = 'Number of people'\n",
    "p2.legend.click_policy='hide'\n",
    "p2.legend.location = \"top_right\"\n",
    "#show(p2)"
   ]
  },
  {
   "cell_type": "markdown",
   "metadata": {},
   "source": [
    "### Recovered and total amount of cases"
   ]
  },
  {
   "cell_type": "code",
   "execution_count": null,
   "metadata": {},
   "outputs": [],
   "source": [
    "p3 = figure(x_axis_type=\"datetime\", title='Forecast for recovered and total amount of cases', x_range=p1.x_range, y_range= DataRange1d(start=0), plot_height=500, plot_width=960)\n",
    "\n",
    "#Plot realizations\n",
    "for real in (str(x) for x in range(1, 100)): #num_real+1 (to plot all realizations)\n",
    "    p3.line(recov_1.index, recov_1[real], color=color_recov, line_width=0.5, alpha = 0.6, legend_label='Recovered_1_realizations')\n",
    "    p3.line(case_1.index, case_1[real], color=color_case, line_width=0.5, alpha = 0.6, legend_label='Cases_1_realizations')\n",
    "\n",
    "#Plot simulations\n",
    "#p3.varea(x= recov_1.index, y1=recov_1['ave']-2*recov_1['std'], y2=recov_1['ave']+2*recov_1['std'], color=color_recov, alpha=0.2, legend_label='Recovered_1_std')\n",
    "p3.line(recov_1.index, recov_1['ave'], color=color_recov_avg, line_width=3, legend_label='Recovered_1_avg')\n",
    "#p3.varea(x= case_1.index, y1=case_1['ave']-2*case_1['std'], y2=case_1['ave']+2*case_1['std'], color=color_case, alpha=0.2, legend_label='Cases_1_std')\n",
    "p3.line(case_1.index, case_1['ave'], color=color_case_avg, line_width=3, legend_label='Cases_1_avg')\n",
    "\n",
    "p3.grid.grid_line_alpha=0.9\n",
    "p3.xaxis.axis_label = 'Time'\n",
    "p3.yaxis.axis_label = 'Number of people'\n",
    "p3.legend.click_policy='hide'\n",
    "p3.legend.location = \"top_left\"\n",
    "#show(p3)"
   ]
  },
  {
   "cell_type": "markdown",
   "metadata": {},
   "source": [
    "### Susceptible"
   ]
  },
  {
   "cell_type": "code",
   "execution_count": null,
   "metadata": {},
   "outputs": [],
   "source": [
    "p4 = figure(x_axis_type=\"datetime\", title='Forecast for susceptible', x_range=p1.x_range,y_range= DataRange1d(start=0), plot_height=500, plot_width=960)\n",
    "\n",
    "#Plot realizations\n",
    "for real in (str(x) for x in range(1, 100)): #num_real+1 (to plot all realizations)\n",
    "    p4.line(susc_1.index, susc_1[real], color=color_susc, line_width=0.5, alpha = 0.3, legend_label='Susceptible_1_realizations')\n",
    "\n",
    "#Plot simulations\n",
    "#p4.varea(x= susc_1.index, y1=susc_1['ave']-2*susc_1['std'], y2=susc_1['ave']+2*susc_1['std'], color=color_susc, alpha=0.2, legend_label='Susceptible_1_std')\n",
    "p4.line(susc_1.index, susc_1['ave'], color=color_susc_avg, line_width=3, legend_label='Susceptible_1_avg')\n",
    "\n",
    "p4.grid.grid_line_alpha=0.9\n",
    "p4.xaxis.axis_label = 'Time'\n",
    "p4.yaxis.axis_label = 'Number of people'\n",
    "p4.legend.click_policy='hide'\n",
    "p4.legend.location = \"top_right\"\n",
    "#show(p4)"
   ]
  },
  {
   "cell_type": "markdown",
   "metadata": {},
   "source": [
    "### R ensemble"
   ]
  },
  {
   "cell_type": "code",
   "execution_count": null,
   "metadata": {},
   "outputs": [],
   "source": [
    "p5 = figure(x_axis_type=\"datetime\", title='Ensemble of R(t) functions', x_range=p1.x_range,y_range= DataRange1d(start=0), plot_height=500, plot_width=960)\n",
    "\n",
    "#Plot realizations\n",
    "for real in (str(x) for x in range(1, 100)): #num_real+1 (to plot all realizations)\n",
    "    p5.line(rens_0.index, rens_0[real], color=color_rens_prior, line_width=0.5, alpha = 1.0, legend_label='Prior')\n",
    "    p5.line(rens_1.index, rens_1[real], color=color_rens_post, line_width=0.5, alpha = 1.0, legend_label='Posterior')\n",
    "\n",
    "#Plot simulations\n",
    "#p5.varea(x=rens_0.index, y1=rens_0['ave']-2*rens_0['std'], y2=rens_0['ave']+2*rens_0['std'], color=color_rens_prior, alpha=0.2, legend_label='R_0_std')\n",
    "#p5.varea(x=rens_1.index, y1=rens_1['ave']-2*rens_1['std'], y2=rens_1['ave']+2*rens_1['std'], color=color_rens_post, alpha=0.2, legend_label='R_1_std')\n",
    "p5.line(rens_0.index, rens_0['ave'], color=color_rens_prior_avg, line_width=3, legend_label='R_0_avg')\n",
    "p5.line(rens_1.index, rens_1['ave'], color=color_rens_post_avg, line_width=3, legend_label='R_1_avg')\n",
    "\n",
    "p5.grid.grid_line_alpha=0.9\n",
    "p5.xaxis.axis_label = 'Time'\n",
    "p5.yaxis.axis_label = 'Reproduction number (R)'\n",
    "p5.legend.click_policy='hide'\n",
    "p5.legend.location = \"top_right\"\n",
    "#show(p5)"
   ]
  },
  {
   "cell_type": "code",
   "execution_count": null,
   "metadata": {
    "scrolled": false
   },
   "outputs": [],
   "source": [
    "p = column([p1, p2, p3, p4, p5])\n",
    "show(p)"
   ]
  },
  {
   "cell_type": "code",
   "execution_count": null,
   "metadata": {},
   "outputs": [],
   "source": []
  }
 ],
 "metadata": {
  "kernelspec": {
   "display_name": "Python 3",
   "language": "python",
   "name": "python3"
  },
  "language_info": {
   "codemirror_mode": {
    "name": "ipython",
    "version": 3
   },
   "file_extension": ".py",
   "mimetype": "text/x-python",
   "name": "python",
   "nbconvert_exporter": "python",
   "pygments_lexer": "ipython3",
   "version": "3.6.9"
  }
 },
 "nbformat": 4,
 "nbformat_minor": 2
}
